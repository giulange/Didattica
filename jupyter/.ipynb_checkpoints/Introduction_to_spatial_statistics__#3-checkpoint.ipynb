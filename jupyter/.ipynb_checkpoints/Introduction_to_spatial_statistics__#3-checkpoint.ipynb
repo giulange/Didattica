{
 "cells": [
  {
   "cell_type": "markdown",
   "metadata": {},
   "source": [
    "## Lezione :: Analisi statistica spaziale di alcune proprietà dei suoli"
   ]
  },
  {
   "cell_type": "markdown",
   "metadata": {},
   "source": [
    "### Laurea magistrale in scienze forestali ed ambientali.<br>Corso di Geografia e Valutazione del suolo"
   ]
  },
  {
   "cell_type": "markdown",
   "metadata": {},
   "source": [
    "Giuliano Langella<br>\n",
    "glangella@unina.it\n",
    "\n",
    "<b>Tobler's Low of Geography (1970): <br><em>$\\quad$ \"Everything is related to everything else, but near things are more related than distant things\".</em></b>"
   ]
  },
  {
   "cell_type": "markdown",
   "metadata": {},
   "source": [
    "#### ––––––––––––––––––––––––––––––––––––––––––––––––––––––––––––––––––––––––––––––––––––––––––––––––––––––––––––––––––––––––"
   ]
  },
  {
   "cell_type": "markdown",
   "metadata": {},
   "source": [
    "### LINKS:\n",
    "https://cran.r-project.org/doc/contrib/intro-spatial-rl.pdf <br>\n",
    "http://www.rspatial.org <br>\n",
    "http://pakillo.github.io/R-GIS-tutorial/#iovec <br>\n",
    "http://www.nickeubank.com/wp-content/uploads/2015/10/ <br>\n",
    "http://neondataskills.org/R/extract-raster-data-R/#method-3-extract-values-using-a-shapefile <br>\n"
   ]
  },
  {
   "cell_type": "markdown",
   "metadata": {},
   "source": [
    "## Step #3: Esercizio in R sulla geostatistica\n",
    "#### <u>Nota:</u><br>Il kernel utilizzato per Jupyter è R per cui il codice è in tale linguaggio. <br>Ai fini dello studio degli argomenti annotare i comandi necessari per eseguire le analisi (geo)statistiche proposte.<br>\n",
    "\n",
    "Argomenti trattati:\n",
    "<ol type=\"A\">\n",
    " \n",
    "  <li>EXCEL</li>\n",
    "  <ul>\n",
    "      <li>Illustrare la procedura in Excel, e consegnarla agli studenti (assegnare esercizio a casa utilizzando i dati estratti dal DEM per la costruzione del variogramma)</li>\n",
    "  </ul>\n",
    "<br>\n",
    "\n",
    "  <li>GSTAT: esempio built-in</li>\n",
    "  <ul>\n",
    "      <li>Prendiamo confidenza – mediante l'uso di GSTAT – con (i) l'analisi variografica (variogramma sperimentale, fitting di variogramma) e (ii) l'interpolazione geostatistica mediante kriging.</li>\n",
    "      <li>https://cran.r-project.org/web/packages/gstat/vignettes/gstat.pdf</li>\n",
    "  </ul>\n",
    "<br>\n",
    "\n",
    "  <li>GSTAT: esempio applicativo in Valle Telesina</li>\n",
    "    <ul>\n",
    "      <li>Entriamo in R, installiamo il pacchetto gstat e creiamo lo schema di campionamento</li>\n",
    "      <li>Entriamo in GIS (SAGA, QGIS, ...), importiamo il DEM, importiamo le coordinate dei punti di campionamento ed astraiamo i punti di quota in corrispondenza dei punti di campionamento (pedologico).</li>\n",
    "      <li>Equipariamo mentalmente il processo di \"estrazione\" dei dati di quota dal DEM come all'intera procedura che passa per il campionamento pedologico nei punti individuati, alla raccolta dei campioni, alle analisi di laboratorio ed alla determinazione dei valori di una certa variabile (es. C.O. in [g/kg]).</li>\n",
    "      <li>Aprire RStudio</li>\n",
    "      <ul>\n",
    "        <li>Importare i dati di quota estratti (ovvero di C.O. misurati) nei punti di campionamento</li>\n",
    "        <li>Costruire un variogramma sperimentale</li>\n",
    "        <li>Eseguire il fitting mediante un variogramma teorico autorizzato (sferico ed esponenziale)</li>\n",
    "        <li>Utilizzare il modello di variogramma per l'interpolazione mediante kriging</li>\n",
    "        <li>Confrontare le mappe di kriging utilizzando i diversi modelli di variogramma</li>\n",
    "        <li>Confrontare una mappa di kriging con il DEM originale</li>\n",
    "        <li>(nel caso del campionamento pedologico, è come se potessimo confrontare le nostre interpolazioni del C.O. con i valori effettivamente presenti nella realtà)</li>\n",
    "      </ul>\n",
    "    </ul>\n",
    "</ol>"
   ]
  },
  {
   "cell_type": "markdown",
   "metadata": {},
   "source": [
    "#### ––––––––––––––––––––––––––––––––––––––––––––––––––––––––––––––––––––––––––––––––––––––––––––––––––––––––––––––––––––––––"
   ]
  },
  {
   "cell_type": "markdown",
   "metadata": {},
   "source": [
    "## 3. GSTAT: esempio applicativo in Valle Telesina"
   ]
  },
  {
   "cell_type": "markdown",
   "metadata": {},
   "source": [
    "- importare un raster (DEM) in R\n",
    "- creare un griglia regolare di punti di campionamento, metodo artigianale\n",
    "- creazione di un raster, metodo rapido\n",
    "- creare la lista di punti da esportare per uso in GIS (saltiamo)\n",
    "- estrazione della ELEV nei punti di campionamento (in R, con/senza buffer)\n",
    "- variogramma e fitting della ELEV\n",
    "- interpolazione spaziale (kriging) della ELEV\n",
    "- valutazione critica dei risultati dell'analisi"
   ]
  },
  {
   "cell_type": "markdown",
   "metadata": {},
   "source": [
    "#### Caricare i pacchetti R richiesti dalla procedura seguente:"
   ]
  },
  {
   "cell_type": "code",
   "execution_count": null,
   "metadata": {
    "kernel": "R"
   },
   "outputs": [],
   "source": [
    "#library(repr)   # to size plots within Jupyter\n",
    "#    options(repr.plot.width=4)\n",
    "require(rgdal)   # \n",
    "library(raster)  # to use the raster function\n",
    "require(gstat)   # to run geostatistical analysis"
   ]
  },
  {
   "cell_type": "markdown",
   "metadata": {},
   "source": [
    "#### Dai metadati del DEM in ambiente GIS ricaviamo le coordinate del Bounding Box\n",
    "Il DEM è della Valle Telesina.<br>\n",
    "Nel corso degli esperimenti statistici affronteremo lo studio di un dataset pedologico ottenuto in Valle Telesina.<br>\n",
    "Per questa ragione eseguiremo le nostre analisi in questo areale.<br>\n",
    "<img src=\"artwork/DEM_VT.png\" alt=\"DEM della Valle Telesina\" style=\"width:500px;float:left;\" >"
   ]
  },
  {
   "cell_type": "code",
   "execution_count": null,
   "metadata": {
    "kernel": "R"
   },
   "outputs": [],
   "source": [
    "DEM <- raster(\"data/dem5m.tif\") # importare il DEM dal disco\n",
    "#plot(DEM)"
   ]
  },
  {
   "cell_type": "code",
   "execution_count": null,
   "metadata": {
    "kernel": "R"
   },
   "outputs": [],
   "source": [
    "DEM"
   ]
  },
  {
   "cell_type": "code",
   "execution_count": null,
   "metadata": {
    "kernel": "R"
   },
   "outputs": [],
   "source": [
    "extent(DEM)"
   ]
  },
  {
   "cell_type": "code",
   "execution_count": null,
   "metadata": {
    "kernel": "R"
   },
   "outputs": [],
   "source": [
    "bbox(DEM)"
   ]
  },
  {
   "cell_type": "markdown",
   "metadata": {},
   "source": [
    "Incolliamo le coordinate del Bounding Box della nostra area di studio, avendo cura di riconoscere opportunamente le dimensioni X (Easting) ed Y (Northing).<br>\n",
    "Possiamo ottenere le info del bbox sia in R con extent(_GRID_) sia in GIS."
   ]
  },
  {
   "cell_type": "code",
   "execution_count": null,
   "metadata": {
    "kernel": "R"
   },
   "outputs": [],
   "source": [
    "xmin = 453000  # metri\n",
    "ymin = 4556000 # metri\n",
    "xmax = 477000  # metri\n",
    "ymax = 4572320 # metri"
   ]
  },
  {
   "cell_type": "code",
   "execution_count": null,
   "metadata": {
    "kernel": "MATLAB"
   },
   "outputs": [],
   "source": [
    "%get xmin ymin xmax ymax --from R\n",
    "line( [xmin,xmin],[ymin,ymax] ) % left\n",
    "line( [xmin,xmax],[ymin,ymin] ) % bottom\n",
    "line( [xmax,xmax],[ymin,ymax] ) % right\n",
    "line( [xmin,xmax],[ymax,ymax] ) % bottom\n",
    "text(xmin+(xmax-xmin)/2,ymin+(ymax-ymin)/2,...\n",
    "     'Bounding Box','HorizontalAlignment','center')\n",
    "xmin_o = xmin;\n",
    "ymin_o = ymin; \n",
    "xmax_o = xmax;\n",
    "ymax_o = ymax;"
   ]
  },
  {
   "cell_type": "markdown",
   "metadata": {},
   "source": [
    "Calcoliamo l'estensione dell'area studio lungo X ed Y:"
   ]
  },
  {
   "cell_type": "code",
   "execution_count": null,
   "metadata": {
    "kernel": "R"
   },
   "outputs": [],
   "source": [
    "xdelta = xmax-xmin\n",
    "ydelta = ymax-ymin\n",
    "# stampa i valori in metri:\n",
    "print( cbind(xdelta,ydelta) )"
   ]
  },
  {
   "cell_type": "markdown",
   "metadata": {},
   "source": [
    "I punti di campionamento devono ricadere all'interno del bounding box, evitando quindi di posizionare punti sul bordo o in prossimità di esso:"
   ]
  },
  {
   "cell_type": "code",
   "execution_count": null,
   "metadata": {
    "kernel": "R"
   },
   "outputs": [],
   "source": [
    "xmin = xmin + 500# m\n",
    "xmax = xmax - 500# m\n",
    "ymin = ymin + 1320/2\n",
    "ymax = ymax - 1320/2\n",
    "# stampa i valori in metri:\n",
    "print( cbind(xmin,xmax,ymin,ymax) )"
   ]
  },
  {
   "cell_type": "code",
   "execution_count": null,
   "metadata": {
    "kernel": "MATLAB"
   },
   "outputs": [],
   "source": [
    "%get xmin xmax ymin ymax --from R\n",
    "line( [xmin_o,xmin_o],[ymin_o,ymax_o], 'color','b' ) % left\n",
    "line( [xmin_o,xmax_o],[ymin_o,ymin_o], 'color','b' ) % bottom\n",
    "line( [xmax_o,xmax_o],[ymin_o,ymax_o], 'color','b' ) % right\n",
    "line( [xmin_o,xmax_o],[ymax_o,ymax_o], 'color','b' ) % bottom\n",
    "text(xmin_o+(xmax_o-xmin_o)/2,ymax_o,'Bounding Box',...\n",
    "     'HorizontalAlignment','center','VerticalAlignment','bottom','color','b')\n",
    "line( [xmin,xmin],[ymin,ymax], 'color','r' ) % left\n",
    "line( [xmin,xmax],[ymin,ymin], 'color','r' ) % bottom\n",
    "line( [xmax,xmax],[ymin,ymax], 'color','r' ) % right\n",
    "line( [xmin,xmax],[ymax,ymax], 'color','r' ) % bottom\n",
    "text(xmin+(xmax-xmin)/2,ymin+(ymax-ymin)/2,...\n",
    "     'Area di Campionamento','HorizontalAlignment','center','color','r')\n",
    "axis off\n",
    "axis equal"
   ]
  },
  {
   "cell_type": "markdown",
   "metadata": {},
   "source": [
    "Calcoliamo la nuova estensione dell'area studio lungo X ed Y:"
   ]
  },
  {
   "cell_type": "code",
   "execution_count": null,
   "metadata": {
    "kernel": "R"
   },
   "outputs": [],
   "source": [
    "xdelta = xmax-xmin\n",
    "ydelta = ymax-ymin\n",
    "# stampa i valori in metri:\n",
    "print( cbind(xdelta,ydelta) )"
   ]
  },
  {
   "cell_type": "markdown",
   "metadata": {},
   "source": [
    "#### Creare una griglia regolare di campionamento\n",
    "Si divide il dominio XY (=2D, ossia in termini matematici $\\mathfrak{D}^2\\subset\\Re^2$) dell'area studio in una griglia regolare di $N_x \\times N_y$ punti di campionamento.<br>\n",
    "Fissiamo la distanza tra i punti di campionamento, secondo X ed Y:"
   ]
  },
  {
   "cell_type": "code",
   "execution_count": null,
   "metadata": {
    "kernel": "R"
   },
   "outputs": [],
   "source": [
    "dx   = 1000 # m\n",
    "dy   = 1000 # m"
   ]
  },
  {
   "cell_type": "markdown",
   "metadata": {},
   "source": [
    "Scriviamo le coordinate dei punti lungo i due transetti X ed Y.<br>\n",
    "La funzione seq crea una sequenza regolare di valori, partendo da xmin fino ad xmax con uno step pari a dx.<br>\n",
    "(abbiamo che il vettore xtransect è costituito da 101 elementi, come ytransect)"
   ]
  },
  {
   "cell_type": "code",
   "execution_count": null,
   "metadata": {
    "kernel": "R"
   },
   "outputs": [],
   "source": [
    "xtransect = seq(xmin,xmax,dx)\n",
    "ytransect = seq(ymin,ymax,dy)\n",
    "# Numero di punti lungo X e lungo Y:\n",
    "Nx = length(xtransect)\n",
    "Ny = length(ytransect)\n",
    "# stampa il numero di elementi del vettore xtransect (ytransect ha le stesse dimensioni)\n",
    "print( cbind(Nx,Ny) )"
   ]
  },
  {
   "cell_type": "code",
   "execution_count": null,
   "metadata": {
    "kernel": "R"
   },
   "outputs": [],
   "source": [
    "head(ytransect)"
   ]
  },
  {
   "cell_type": "code",
   "execution_count": null,
   "metadata": {
    "kernel": "MATLAB"
   },
   "outputs": [],
   "source": [
    "%get xtransect ytransect --from R\n",
    "hold on\n",
    "    line( [xmin_o,xmin_o],[ymin_o,ymax_o], 'color','b' ) % left\n",
    "    line( [xmin_o,xmax_o],[ymin_o,ymin_o], 'color','b' ) % bottom\n",
    "    line( [xmax_o,xmax_o],[ymin_o,ymax_o], 'color','b' ) % right\n",
    "    line( [xmin_o,xmax_o],[ymax_o,ymax_o], 'color','b' ) % bottom\n",
    "    line( [xmin,xmin],[ymin,ymax], 'color','r' ) % left\n",
    "    line( [xmin,xmax],[ymin,ymin], 'color','r' ) % bottom\n",
    "    line( [xmax,xmax],[ymin,ymax], 'color','r' ) % right\n",
    "    line( [xmin,xmax],[ymax,ymax], 'color','r' ) % bottom\n",
    "    scatter( xtransect, repmat(ymax,numel(xtransect),1) )\n",
    "    scatter( repmat(xmin,numel(ytransect),1), ytransect )\n",
    "hold off\n",
    "axis off\n",
    "axis equal\n",
    "\n",
    "text(xmin_o+(xmax_o-xmin_o)/2,ymax_o,'Bounding Box',...\n",
    "     'HorizontalAlignment','center','VerticalAlignment','bottom','color','b')\n",
    "\n",
    "text(xmin+(xmax-xmin)/2,ymin+(ymax-ymin)/2,...\n",
    "     'Area di Campionamento','HorizontalAlignment','center','color','r')"
   ]
  },
  {
   "cell_type": "markdown",
   "metadata": {},
   "source": [
    "Replichiamo il vettore transect a formare una matrice per ogni dimensione del dominio spaziale (quindi X ed Y):"
   ]
  },
  {
   "cell_type": "code",
   "execution_count": null,
   "metadata": {
    "kernel": "R"
   },
   "outputs": [],
   "source": [
    "Xgrid = rep(xtransect,Ny) # Xgrid è ancora un vettore, ma di Nx*Ny elementi\n",
    "Ygrid = rep(ytransect,Nx) # Ygrid è ancora un vettore, ma di Nx*Ny elementi\n",
    "# Xgrid (e Ygrid) è un vettore con numero di elementi pari a Nx*Ny:\n",
    "class(Xgrid)  # ad un oggetto R \"numeric\" possiamo chiedere \"length\" ma non \"dim\"\n",
    "length(Xgrid) # infatti \"length\" restituisce il numero di elementi (Nx*Ny)\n",
    "dim(Xgrid)    # \"dim\" non funziona in quanto il tipo dati Xgrid è \"numeric\" e non \"matrix\""
   ]
  },
  {
   "cell_type": "markdown",
   "metadata": {},
   "source": [
    "Osserviamo come le coordinate X ed Y nelle matrice non sono ancora organizzate correttamente:"
   ]
  },
  {
   "cell_type": "code",
   "execution_count": null,
   "metadata": {
    "kernel": "MATLAB"
   },
   "outputs": [],
   "source": [
    "%get Xgrid Ygrid --from R\n",
    "scatter(Xgrid,Ygrid)"
   ]
  },
  {
   "cell_type": "markdown",
   "metadata": {},
   "source": [
    "Manipolazione dei vettori Xgrid ed Ygrid per formare le matrici 2D di $N_x$ colonne e $N_y$ righe:<br>\n",
    "<font color=\"red\">NOTA :: usare Ny ed Nx in modo coerente con trasposizione e ribaltamento successivi!!</font>"
   ]
  },
  {
   "cell_type": "code",
   "execution_count": null,
   "metadata": {
    "kernel": "R"
   },
   "outputs": [],
   "source": [
    "Xgrid = matrix( Xgrid, Ny, Nx )\n",
    "Ygrid = matrix( Ygrid, Ny, Nx )\n",
    "dim(Xgrid)# numero di elementi distinti per dimensione X ed Y\n",
    "dim(Ygrid)# numero di elementi distinti per dimensione X ed Y"
   ]
  },
  {
   "cell_type": "markdown",
   "metadata": {},
   "source": [
    "La riorganizzazione da vettore a matrice non ha modificato l'organizzazione dei dati:"
   ]
  },
  {
   "cell_type": "code",
   "execution_count": null,
   "metadata": {
    "kernel": "MATLAB"
   },
   "outputs": [],
   "source": [
    "%get Xgrid Ygrid --from R\n",
    "scatter(Xgrid(:),Ygrid(:))"
   ]
  },
  {
   "cell_type": "markdown",
   "metadata": {},
   "source": [
    "#### Riorganizziamo le matrici in modo da ordinare le coordinate in modo opportuno:"
   ]
  },
  {
   "cell_type": "markdown",
   "metadata": {},
   "source": [
    " - trasposizione della matrice Xgrid:"
   ]
  },
  {
   "cell_type": "code",
   "execution_count": null,
   "metadata": {
    "kernel": "R"
   },
   "outputs": [],
   "source": [
    "Xgrid = t(Xgrid)"
   ]
  },
  {
   "cell_type": "markdown",
   "metadata": {},
   "source": [
    " - ribaltamento (flip-up-down) della matrice Ygrid:"
   ]
  },
  {
   "cell_type": "code",
   "execution_count": null,
   "metadata": {
    "kernel": "R"
   },
   "outputs": [],
   "source": [
    "tmp = rev(Ygrid)\n",
    "# Osserviamo le differenza rispetto alle stampe effettuate in precedenza su Xgrid:\n",
    "class(Xgrid)  # ad un oggetto R \"matrix\" possiamo chiedere sia \"length\" che \"dim\"\n",
    "length(Xgrid) # infatti \"length\" restituisce il numero di elementi (Nx*Ny)\n",
    "dim(Xgrid)    # \"dim\" restituisce il numero di elementi distinti per dimensione X ed Y"
   ]
  },
  {
   "cell_type": "markdown",
   "metadata": {},
   "source": [
    "Il punto P di coordinate matriciali [1,1] è definito come <font color=\"red\"><b>P_1_1</b></font> ed ha le seguenti coordinate x(1,1) ed y(1,1):"
   ]
  },
  {
   "cell_type": "code",
   "execution_count": null,
   "metadata": {
    "kernel": "R"
   },
   "outputs": [],
   "source": [
    "pi = paste(\"P_\",1,\"_\",1,sep=\"\")\n",
    "xi = Xgrid[1,1]\n",
    "yi = Ygrid[1,1]\n",
    "print( cbind(pi,xi,yi) )"
   ]
  },
  {
   "cell_type": "markdown",
   "metadata": {},
   "source": [
    "Il punto di campionamento <font color=\"red\"><b>P_1_2</b></font> è ubicato uno step dx a destra lungo l'asse X ed è fermo lungo l'asse Y:"
   ]
  },
  {
   "cell_type": "code",
   "execution_count": null,
   "metadata": {
    "kernel": "R"
   },
   "outputs": [],
   "source": [
    "pi = paste(\"P_\",1,\"_\",2,sep=\"\")\n",
    "xi = Xgrid[1,2]\n",
    "yi = Ygrid[1,2]\n",
    "print( cbind(pi,xi,yi,dx,dy) )"
   ]
  },
  {
   "cell_type": "markdown",
   "metadata": {},
   "source": [
    "per cui ha la stessa coordinata Y di P_1_1 ma la coordinata X è quella di P_1_1 + dx"
   ]
  },
  {
   "cell_type": "markdown",
   "metadata": {},
   "source": [
    "Il punto di campionamento <font color=\"red\"><b>P_2_1</b></font> è ubicato uno step sotto lungo l'asse Y ed è fermo lungo l'asse X:"
   ]
  },
  {
   "cell_type": "code",
   "execution_count": null,
   "metadata": {
    "kernel": "R",
    "scrolled": true
   },
   "outputs": [],
   "source": [
    "pi = paste(\"P_\",2,\"_\",1,sep=\"\")\n",
    "xi = Xgrid[2,1]\n",
    "yi = Ygrid[2,1]\n",
    "print( cbind(pi,xi,yi,dx,dy) )"
   ]
  },
  {
   "cell_type": "markdown",
   "metadata": {},
   "source": [
    "per cui ha la stessa coordinata X di P_1_1 ma la coordinata Y è quella di P_1_1 + dy"
   ]
  },
  {
   "cell_type": "markdown",
   "metadata": {},
   "source": [
    "#### Metodo rapido per la creazione di un raster\n",
    "Leggere il CRS con codice EPSG:32632 in formato PROJ4 dal portale spatialreference.org:<br>\n",
    "http://spatialreference.org/ref/epsg/32633/proj4/"
   ]
  },
  {
   "cell_type": "markdown",
   "metadata": {},
   "source": [
    "In alternativa è possibile chiedere il CRS al DEM precedentemente importato in R:"
   ]
  },
  {
   "cell_type": "code",
   "execution_count": null,
   "metadata": {
    "kernel": "R"
   },
   "outputs": [],
   "source": [
    "proj4string(DEM) "
   ]
  },
  {
   "cell_type": "code",
   "execution_count": null,
   "metadata": {
    "kernel": "R"
   },
   "outputs": [],
   "source": [
    "GRID <- raster(ncol = Nx, nrow = Ny, xmn = xmin, xmx = xmax, ymn = ymin, ymx = ymax, \n",
    "               crs=\"+proj=utm +zone=33 +ellps=WGS84 +datum=WGS84 +units=m +no_defs\")\n",
    "GRID"
   ]
  },
  {
   "cell_type": "code",
   "execution_count": null,
   "metadata": {
    "kernel": "R"
   },
   "outputs": [],
   "source": [
    "hasValues(GRID) # esiste il grigliato ma non è valorizzato!"
   ]
  },
  {
   "cell_type": "code",
   "execution_count": null,
   "metadata": {
    "kernel": "R"
   },
   "outputs": [],
   "source": [
    "# Note Nx*Ny is the total number of cells in the grid\n",
    "values(GRID) <- 1:(Nx * Ny)\n",
    "options(repr.plot.width=5,repr.plot.height=4)\n",
    "plot(GRID)"
   ]
  },
  {
   "cell_type": "markdown",
   "metadata": {},
   "source": [
    "#### Creazione della lista di punti di coordinate X ed Y in corrispondenza dei quali eseguire il campionamento<br>\n",
    "Nel nostro caso specifico, l'estrazione dei valori di quota dal DEM in ambiente GIS mediante l'uso di Points.txt"
   ]
  },
  {
   "cell_type": "code",
   "execution_count": null,
   "metadata": {},
   "outputs": [],
   "source": [
    "# Attenzione: inserendo la [] dopo la funzione forza la richiesta degli elementi indicati in []\n",
    "Nrows = dim(Xgrid)[1] # si chiede il primo elemento di output della funzione dim\n",
    "Ncols = dim(Xgrid)[2] # si chiede il secondo elemento di output della funzione dim\n",
    "i=0\n",
    "Pi <- vector(mode = \"character\", length = Nrows*Ncols)\n",
    "Xi <- vector(mode = \"numeric\",   length = Nrows*Ncols)\n",
    "Yi <- vector(mode = \"numeric\",   length = Nrows*Ncols)\n",
    "# questo è un ciclo for, serve a ripetere una stessa operazione N-volte scrivendola 1-volta\n",
    "for (row in 1:Nrows){\n",
    "    for (col in 1:Ncols){\n",
    "        i=i+1\n",
    "        # Stampa dell'etichetta del punto di campionamento, per le successive elaborazioni\n",
    "        # Il risultato è del tipo P_riga_colonna\n",
    "        # Ad es. P_17_100 indica il punto di campionamento alla riga 17 e colonna 100\n",
    "        # Costruzione del campo etichetta dei punti Pi di campionamento, es. P1, P2, ecc.\n",
    "        Pi[i] = paste(\"P_\",row,\"_\",col, sep=\"\")\n",
    "        # Stampa del valore di coordinata X ed Y\n",
    "        Xi[i] = Xgrid[row,col]\n",
    "        Yi[i] = Ygrid[row,col]\n",
    "        #print(Pi[i])\n",
    "        #print(Xi[i])\n",
    "        #print(Yi[i])\n",
    "    }\n",
    "}"
   ]
  },
  {
   "cell_type": "code",
   "execution_count": null,
   "metadata": {},
   "outputs": [],
   "source": [
    "Points = cbind(Pi,Xi,Yi)\n",
    "#creare la matrice XY e salvare su disco per poi importarla in GIS (QGIS/SAGA)\n",
    "write.table(Points, file = \"data/Points.txt\", append = FALSE, quote = FALSE, sep = \",\",\n",
    "            eol = \"\\n\", na = \"NA\", dec = \".\", row.names = FALSE,\n",
    "            col.names = TRUE, qmethod = c(\"escape\", \"double\"),\n",
    "            fileEncoding = \"\")"
   ]
  },
  {
   "cell_type": "code",
   "execution_count": null,
   "metadata": {},
   "outputs": [],
   "source": [
    "class(Points)"
   ]
  },
  {
   "cell_type": "markdown",
   "metadata": {},
   "source": [
    "## Estrarre i dati di quota dal DEM (plugin :: Point Sampling Tool)"
   ]
  },
  {
   "cell_type": "markdown",
   "metadata": {},
   "source": [
    "### In QGIS:\n",
    "Importare in GIS la tabella Points.txt appena creata e campionare il DEM (i suoli) nei punti della griglia di campionamento. <br>\n",
    " - http://www.qgistutorials.com/it/docs/sampling_raster_data.html <br>\n",
    " - https://pvanb.wordpress.com/2010/02/15/sampling-raster-values-at-point-locations-in-qgis/"
   ]
  },
  {
   "cell_type": "markdown",
   "metadata": {},
   "source": [
    "### In R:\n",
    "- http://neondataskills.org/R/extract-raster-data-R/#method-3-extract-values-using-a-shapefile"
   ]
  },
  {
   "cell_type": "markdown",
   "metadata": {},
   "source": [
    "#### Si crea un oggetto R del tipo Spatial Points, assegnando opportuno CRS:"
   ]
  },
  {
   "cell_type": "code",
   "execution_count": null,
   "metadata": {},
   "outputs": [],
   "source": [
    "XY = cbind(Xi,Yi) # concatena Xi ed Yi a formare 2 colonne, a differenza di c()\n",
    "dimnames(XY)[[1]] = Pi # aggiunge un row-header a XY\n",
    "head(XY) # stampa le prime righe di XY per analizzare la tabella creata"
   ]
  },
  {
   "cell_type": "code",
   "execution_count": null,
   "metadata": {
    "scrolled": true
   },
   "outputs": [],
   "source": [
    "XY_sp = SpatialPoints(XY)\n",
    "summary(XY_sp)"
   ]
  },
  {
   "cell_type": "code",
   "execution_count": null,
   "metadata": {},
   "outputs": [],
   "source": [
    "# CRS : Coordinate Reference System\n",
    "proj4string(XY_sp) <- '+proj=utm +zone=33 +datum=WGS84 \n",
    "                       +units=m +no_defs +ellps=WGS84 +towgs84=0,0,0'\n",
    "summary(XY_sp)"
   ]
  },
  {
   "cell_type": "markdown",
   "metadata": {},
   "source": [
    "#### Estrazione del valore della variabile in corrispondenza della griglia di campionamento:"
   ]
  },
  {
   "cell_type": "code",
   "execution_count": null,
   "metadata": {},
   "outputs": [],
   "source": [
    "ELEV <- extract(DEM,     # raster layer\n",
    "                XY_sp,   # SPDF with centroids\n",
    "                'simple')# method = {'simple' or 'bilinear'}\n",
    "\n",
    "ELEV_buf <- extract(DEM, # raster layer\n",
    "\tXY_sp,               # SPDF with centroids for buffer\n",
    "\tbuffer = 400,        # buffer size, units depend on CRS, in our case meters\n",
    "\tfun=max,             # what value to extract (min, mean, max, myfun(),...)\n",
    "\tdf=FALSE)            # return a dataframe? "
   ]
  },
  {
   "cell_type": "code",
   "execution_count": null,
   "metadata": {},
   "outputs": [],
   "source": [
    "summary(ELEV)\n",
    "summary(ELEV_buf)"
   ]
  },
  {
   "cell_type": "markdown",
   "metadata": {},
   "source": [
    "#### Confrontare i valori campionati con la sorgente primaria (DEM):"
   ]
  },
  {
   "cell_type": "code",
   "execution_count": null,
   "metadata": {},
   "outputs": [],
   "source": [
    "# crea matrice da vettore\n",
    "mELEV     = matrix(ELEV,Nx,Ny)\n",
    "mELEV_buf = matrix(ELEV_buf,Nx,Ny)\n",
    "# traspone matrice\n",
    "mELEV     = t(mELEV)  \n",
    "mELEV_buf = t(mELEV_buf)  \n",
    "# ribalta la matrice up/down\n",
    "mELEV     = apply(mELEV, 2, rev)\n",
    "mELEV_buf = apply(mELEV_buf, 2, rev)\n",
    "# scrivi i valori di quota sul grigliato mappa\n",
    "GRID_buf = GRID\n",
    "values(GRID) <- mELEV\n",
    "values(GRID_buf) <- mELEV_buf"
   ]
  },
  {
   "cell_type": "code",
   "execution_count": null,
   "metadata": {},
   "outputs": [],
   "source": [
    "options(repr.plot.width=7,repr.plot.height=4)\n",
    "par( mfrow = c( 2, 2 ) )\n",
    "plot(GRID,    main=\"Valori campionati [pixel]\")\n",
    "plot(GRID_buf,main=\"Valori campionati [max,r=400m]\")\n",
    "plot(DEM,     main=\"Sorgente primaria (DEM)\")"
   ]
  },
  {
   "cell_type": "code",
   "execution_count": null,
   "metadata": {},
   "outputs": [],
   "source": [
    "options(repr.plot.width=4,repr.plot.height=4)\n",
    "ceeb = cor(cbind(ELEV,ELEV_buf))\n",
    "plot(ELEV,ELEV_buf,main=paste(\"Correlation = \",round(ceeb[2],3)) )"
   ]
  },
  {
   "cell_type": "markdown",
   "metadata": {},
   "source": [
    "### Costruire il variogramma sperimentale (su ELEV)\n",
    "Abbiamo le coordindate in XY ed i valori della variabile in ELEV."
   ]
  },
  {
   "cell_type": "code",
   "execution_count": null,
   "metadata": {},
   "outputs": [],
   "source": [
    "print(\"XY\")\n",
    "summary(XY)\n",
    "print(\"ELEV\")\n",
    "summary(ELEV)"
   ]
  },
  {
   "cell_type": "code",
   "execution_count": null,
   "metadata": {},
   "outputs": [],
   "source": [
    "Points = data.frame(XY,ELEV)\n",
    "class(Points)   # stampa il tipo di dato di Points\n",
    "head(Points)    # stampa le prime N righe di Points\n",
    "summary(Points) # stampa le statistiche di Points"
   ]
  },
  {
   "cell_type": "markdown",
   "metadata": {},
   "source": [
    "La funzione \"coordinates\", quando utilizzata (es. sul lato sinistro di un segno = oppure <-), <br>\n",
    "promuove il data.frame in un a SpatialPointsDataFrame, che ha consapevolezza circa le sue coordinates geospaziali:"
   ]
  },
  {
   "cell_type": "code",
   "execution_count": null,
   "metadata": {},
   "outputs": [],
   "source": [
    "coordinates(Points) <- ~Xi+Yi\n",
    "class(Points)"
   ]
  },
  {
   "cell_type": "code",
   "execution_count": null,
   "metadata": {},
   "outputs": [],
   "source": [
    "summary(Points)"
   ]
  },
  {
   "cell_type": "markdown",
   "metadata": {},
   "source": [
    "Possiamo assegnare ai punti il CRS corretto (con EPSG:32633):"
   ]
  },
  {
   "cell_type": "code",
   "execution_count": null,
   "metadata": {},
   "outputs": [],
   "source": [
    "proj4string(Points) <- \"+proj=utm +zone=33 +ellps=WGS84 +datum=WGS84 +units=m +no_defs\"\n",
    "summary(Points)"
   ]
  },
  {
   "cell_type": "markdown",
   "metadata": {},
   "source": [
    "#### Evidenziare la presenza di un gradiente lineare e smussato\n",
    "The plotting function used, bubble, assumes that the x- and y-axis are the spatial coordinates:"
   ]
  },
  {
   "cell_type": "code",
   "execution_count": null,
   "metadata": {},
   "outputs": [],
   "source": [
    "options(repr.plot.width=7,repr.plot.height=4)\n",
    "bubble(Points, \"ELEV\",\n",
    "       col=c(\"#00ff0088\", \"#00ff0088\"), main = \"elevation (m)\")"
   ]
  },
  {
   "cell_type": "markdown",
   "metadata": {
    "collapsed": true
   },
   "source": [
    "### NOTA: creare un GRID 2 o 4 volte meno denso del DEM (se troppo pesante)\n",
    "Costruzione del GRID di interpolazione, con lo stesso grigliato del DEM (differente da ELEV)"
   ]
  },
  {
   "cell_type": "code",
   "execution_count": null,
   "metadata": {},
   "outputs": [],
   "source": [
    "DEM"
   ]
  },
  {
   "cell_type": "code",
   "execution_count": null,
   "metadata": {
    "scrolled": false
   },
   "outputs": [],
   "source": [
    "xy=as.data.frame(coordinates(DEM))\n",
    "class(xy)"
   ]
  },
  {
   "cell_type": "code",
   "execution_count": null,
   "metadata": {},
   "outputs": [],
   "source": [
    "coordinates(xy)=~x+y\n",
    "class(xy)"
   ]
  },
  {
   "cell_type": "code",
   "execution_count": null,
   "metadata": {},
   "outputs": [],
   "source": [
    "gridded(xy)=TRUE\n",
    "class(xy)"
   ]
  },
  {
   "cell_type": "code",
   "execution_count": null,
   "metadata": {},
   "outputs": [],
   "source": [
    "proj4string(xy) <- \"+proj=utm +zone=33 +ellps=WGS84 +datum=WGS84 +units=m +no_defs\"\n",
    "summary(xy)"
   ]
  },
  {
   "cell_type": "code",
   "execution_count": null,
   "metadata": {},
   "outputs": [],
   "source": [
    "summary(Points)"
   ]
  },
  {
   "cell_type": "code",
   "execution_count": null,
   "metadata": {},
   "outputs": [],
   "source": [
    "elev.idw = idw(ELEV~1, Points, newdata=xy)"
   ]
  },
  {
   "cell_type": "code",
   "execution_count": null,
   "metadata": {},
   "outputs": [],
   "source": [
    "#par( mfrow = c( 2, 2 ) )\n",
    "options(repr.plot.width=5,repr.plot.height=3)\n",
    "plot(GRID,main=\"Valori campionati\")\n",
    "plot(DEM, main=\"Sorgente primaria (DEM)\")\n",
    "spplot(elev.idw[\"var1.pred\"], main = \"ELEV IDW interpolation\")"
   ]
  },
  {
   "cell_type": "code",
   "execution_count": null,
   "metadata": {},
   "outputs": [],
   "source": [
    "elev.vgm  = variogram(ELEV~1, Points, cutoff=16000)\n",
    "elev.vgmc = variogram(ELEV~1, Points, cutoff=16000, cloud=TRUE)\n",
    "elev.vgm"
   ]
  },
  {
   "cell_type": "code",
   "execution_count": null,
   "metadata": {},
   "outputs": [],
   "source": [
    "options(repr.plot.width=4,repr.plot.height=4)\n",
    "plot(elev.vgm)\n",
    "plot(elev.vgmc)"
   ]
  },
  {
   "cell_type": "code",
   "execution_count": null,
   "metadata": {},
   "outputs": [],
   "source": [
    "elev.fit1 = fit.variogram(elev.vgm, model = vgm(10000, \"Sph\", 8000, 1000) )\n",
    "\n",
    "elev.fit2 = fit.variogram(elev.vgm, model = vgm(10000, \"Sph\", 5000,   00), \n",
    "                         fit.sills = TRUE, fit.ranges = TRUE, fit.method=7 )\n",
    "\n",
    "elev.fit3 = fit.variogram(elev.vgm, model = vgm(10000, \"Sph\", 5000,   00), \n",
    "                         fit.sills = TRUE, fit.ranges = TRUE, fit.method=1 )\n",
    "\n",
    "\n",
    "elev.fit4 = fit.variogram(elev.vgm, model = vgm(95000,\"Sph\", 10000, 5000), \n",
    "                        fit.sills = FALSE, fit.ranges = FALSE )\n",
    "\n"
   ]
  },
  {
   "cell_type": "code",
   "execution_count": null,
   "metadata": {},
   "outputs": [],
   "source": [
    "elev.fit1\n",
    "elev.fit2\n",
    "elev.fit3\n",
    "elev.fit4"
   ]
  },
  {
   "cell_type": "code",
   "execution_count": null,
   "metadata": {
    "scrolled": false
   },
   "outputs": [],
   "source": [
    "par( mfrow = c( 2, 2 ) )\n",
    "plot(elev.vgm,elev.fit1,main=\"default & automatic\")\n",
    "plot(elev.vgm,elev.fit2,main=\"fit.method=7\")\n",
    "plot(elev.vgm,elev.fit3,main=\"fit.method=1\")\n",
    "plot(elev.vgm,elev.fit4,main=\"manual setting\")"
   ]
  },
  {
   "cell_type": "markdown",
   "metadata": {},
   "source": [
    "## Kriging Formulas"
   ]
  },
  {
   "cell_type": "markdown",
   "metadata": {},
   "source": [
    "### $z({\\mathbf u}) = \\displaystyle\\sum _{\\alpha=1}^{n({\\mathbf u})} \\lambda_{\\alpha}({\\mathbf u}) z({\\mathbf u}_{\\alpha})$"
   ]
  },
  {
   "cell_type": "markdown",
   "metadata": {},
   "source": [
    "### <b>$\\lambda(u) = K^{-1} k$</b> $\\;\\;$ ove $\\;\\;$ $K^{-1} = (K^{T}K)^{-1}K^T$"
   ]
  },
  {
   "cell_type": "markdown",
   "metadata": {},
   "source": [
    "### $K = \n",
    " \\begin{bmatrix}\n",
    "  C(u_1-u_1) & \\cdots & C(u_1,u_n) \\\\\n",
    "  \\vdots  & \\ddots & \\vdots  \\\\\n",
    "  C(u_n-u_1) & \\cdots & C(u_n-u_n) \n",
    " \\end{bmatrix}$ $\\;\\;$ matrice di varianza-covarianza dei dati"
   ]
  },
  {
   "cell_type": "markdown",
   "metadata": {},
   "source": [
    "### $\\lambda(u) = \n",
    " \\begin{bmatrix}\n",
    "  \\lambda_1(u) \\\\\n",
    "  \\vdots  \\\\\n",
    "  \\lambda_n(u)  \n",
    " \\end{bmatrix}$ $\\;\\;$ vettore dei pesi"
   ]
  },
  {
   "cell_type": "markdown",
   "metadata": {},
   "source": [
    "### $k = \n",
    " \\begin{bmatrix}\n",
    "  C(u_1-u) \\\\\n",
    "  \\vdots  \\\\\n",
    "  C(u_n-u)  \n",
    " \\end{bmatrix}$ $\\;\\;$ vettore di covarianza dati-incognite"
   ]
  }
 ],
 "metadata": {
  "kernelspec": {
   "display_name": "SoS",
   "language": "sos",
   "name": "sos"
  },
  "language_info": {
   "codemirror_mode": "sos",
   "file_extension": ".sos",
   "mimetype": "text/x-sos",
   "name": "sos",
   "nbconvert_exporter": "sos_notebook.converter.SoS_Exporter",
   "pygments_lexer": "sos"
  },
  "sos": {
   "default_kernel": "SoS",
   "kernels": [
    [
     "MATLAB",
     "matlab",
     "MATLAB",
     "#dff8fb"
    ],
    [
     "R",
     "ir",
     "R",
     "#DCDCDA"
    ],
    [
     "SoS",
     "sos",
     "",
     ""
    ]
   ],
   "panel": {
    "displayed": true,
    "height": 0,
    "style": "side"
   },
   "version": "0.9.13.3"
  }
 },
 "nbformat": 4,
 "nbformat_minor": 2
}
